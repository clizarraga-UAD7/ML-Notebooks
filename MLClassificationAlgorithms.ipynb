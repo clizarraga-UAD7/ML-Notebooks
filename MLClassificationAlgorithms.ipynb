{
  "nbformat": 4,
  "nbformat_minor": 0,
  "metadata": {
    "colab": {
      "provenance": [],
      "authorship_tag": "ABX9TyPoQOWnVgfWk614MAARHE/k",
      "include_colab_link": true
    },
    "kernelspec": {
      "name": "python3",
      "display_name": "Python 3"
    },
    "language_info": {
      "name": "python"
    }
  },
  "cells": [
    {
      "cell_type": "markdown",
      "metadata": {
        "id": "view-in-github",
        "colab_type": "text"
      },
      "source": [
        "<a href=\"https://colab.research.google.com/github/clizarraga-UAD7/ML-Notebooks/blob/main/MLClassificationAlgorithms.ipynb\" target=\"_parent\"><img src=\"https://colab.research.google.com/assets/colab-badge.svg\" alt=\"Open In Colab\"/></a>"
      ]
    },
    {
      "cell_type": "markdown",
      "source": [
        "## Supervised Learning Algorithms: Classification \n",
        "(Update: 02-22-2023)\n",
        "\n",
        "We will use the [Palmer's Penguins dataset](https://github.com/allisonhorst/palmerpenguins) and create different models for classifying the dataset by species. \n",
        "\n",
        "We will use the [scikit-learn library](https://scikit-learn.org/stable/index.html) functions for [Supervised learning](https://scikit-learn.org/stable/supervised_learning.html#supervised-learning) cases. \n"
      ],
      "metadata": {
        "id": "2kmOmuq0bQg9"
      }
    },
    {
      "cell_type": "code",
      "execution_count": 50,
      "metadata": {
        "id": "uHDkvYtTXevL"
      },
      "outputs": [],
      "source": [
        "# Basic libraries\n",
        "import numpy as np\n",
        "import pandas as pd\n",
        "import statsmodels.api as sm \n",
        "\n",
        "# Visualization libraries\n",
        "import matplotlib.pyplot as plt \n",
        "import plotly.express as px  \n",
        "import seaborn as sns \n",
        "\n",
        "# Specific scikit-learn libraries\n",
        "from sklearn.neighbors import KNeighborsClassifier\n",
        "from sklearn.tree import DecisionTreeClassifier\n",
        "from sklearn import svm\n",
        "\n",
        "from sklearn.preprocessing import LabelEncoder\n",
        "from sklearn.preprocessing import Normalizer \n",
        "from sklearn.model_selection import train_test_split \n",
        "from sklearn.preprocessing import StandardScaler\n",
        "from sklearn.preprocessing import label_binarize \n",
        "from sklearn.metrics import confusion_matrix, accuracy_score, roc_curve, roc_auc_score, precision_score \n",
        "import sklearn.metrics \n",
        "\n",
        "import warnings \n",
        "warnings.filterwarnings('ignore')\n"
      ]
    },
    {
      "cell_type": "code",
      "source": [
        "# Read the Penguins dataset fom Github\n",
        "filename = \"https://raw.githubusercontent.com/clizarraga-UAD7/Datasets/main/penguins/penguins_size.csv\"\n",
        "df_dist = pd.read_csv(filename)\n",
        "df_dist.head()\n"
      ],
      "metadata": {
        "colab": {
          "base_uri": "https://localhost:8080/",
          "height": 208
        },
        "id": "-qC30YUCX7z1",
        "outputId": "b268b624-5e81-4de7-f26a-48d2b56957a8"
      },
      "execution_count": 2,
      "outputs": [
        {
          "output_type": "execute_result",
          "data": {
            "text/plain": [
              "  species     island  culmen_length_mm  culmen_depth_mm  flipper_length_mm  \\\n",
              "0  Adelie  Torgersen              39.1             18.7              181.0   \n",
              "1  Adelie  Torgersen              39.5             17.4              186.0   \n",
              "2  Adelie  Torgersen              40.3             18.0              195.0   \n",
              "3  Adelie  Torgersen               NaN              NaN                NaN   \n",
              "4  Adelie  Torgersen              36.7             19.3              193.0   \n",
              "\n",
              "   body_mass_g     sex  \n",
              "0       3750.0    MALE  \n",
              "1       3800.0  FEMALE  \n",
              "2       3250.0  FEMALE  \n",
              "3          NaN     NaN  \n",
              "4       3450.0  FEMALE  "
            ],
            "text/html": [
              "\n",
              "  <div id=\"df-97ff63b1-71cf-4ede-bc24-f612390412b1\">\n",
              "    <div class=\"colab-df-container\">\n",
              "      <div>\n",
              "<style scoped>\n",
              "    .dataframe tbody tr th:only-of-type {\n",
              "        vertical-align: middle;\n",
              "    }\n",
              "\n",
              "    .dataframe tbody tr th {\n",
              "        vertical-align: top;\n",
              "    }\n",
              "\n",
              "    .dataframe thead th {\n",
              "        text-align: right;\n",
              "    }\n",
              "</style>\n",
              "<table border=\"1\" class=\"dataframe\">\n",
              "  <thead>\n",
              "    <tr style=\"text-align: right;\">\n",
              "      <th></th>\n",
              "      <th>species</th>\n",
              "      <th>island</th>\n",
              "      <th>culmen_length_mm</th>\n",
              "      <th>culmen_depth_mm</th>\n",
              "      <th>flipper_length_mm</th>\n",
              "      <th>body_mass_g</th>\n",
              "      <th>sex</th>\n",
              "    </tr>\n",
              "  </thead>\n",
              "  <tbody>\n",
              "    <tr>\n",
              "      <th>0</th>\n",
              "      <td>Adelie</td>\n",
              "      <td>Torgersen</td>\n",
              "      <td>39.1</td>\n",
              "      <td>18.7</td>\n",
              "      <td>181.0</td>\n",
              "      <td>3750.0</td>\n",
              "      <td>MALE</td>\n",
              "    </tr>\n",
              "    <tr>\n",
              "      <th>1</th>\n",
              "      <td>Adelie</td>\n",
              "      <td>Torgersen</td>\n",
              "      <td>39.5</td>\n",
              "      <td>17.4</td>\n",
              "      <td>186.0</td>\n",
              "      <td>3800.0</td>\n",
              "      <td>FEMALE</td>\n",
              "    </tr>\n",
              "    <tr>\n",
              "      <th>2</th>\n",
              "      <td>Adelie</td>\n",
              "      <td>Torgersen</td>\n",
              "      <td>40.3</td>\n",
              "      <td>18.0</td>\n",
              "      <td>195.0</td>\n",
              "      <td>3250.0</td>\n",
              "      <td>FEMALE</td>\n",
              "    </tr>\n",
              "    <tr>\n",
              "      <th>3</th>\n",
              "      <td>Adelie</td>\n",
              "      <td>Torgersen</td>\n",
              "      <td>NaN</td>\n",
              "      <td>NaN</td>\n",
              "      <td>NaN</td>\n",
              "      <td>NaN</td>\n",
              "      <td>NaN</td>\n",
              "    </tr>\n",
              "    <tr>\n",
              "      <th>4</th>\n",
              "      <td>Adelie</td>\n",
              "      <td>Torgersen</td>\n",
              "      <td>36.7</td>\n",
              "      <td>19.3</td>\n",
              "      <td>193.0</td>\n",
              "      <td>3450.0</td>\n",
              "      <td>FEMALE</td>\n",
              "    </tr>\n",
              "  </tbody>\n",
              "</table>\n",
              "</div>\n",
              "      <button class=\"colab-df-convert\" onclick=\"convertToInteractive('df-97ff63b1-71cf-4ede-bc24-f612390412b1')\"\n",
              "              title=\"Convert this dataframe to an interactive table.\"\n",
              "              style=\"display:none;\">\n",
              "        \n",
              "  <svg xmlns=\"http://www.w3.org/2000/svg\" height=\"24px\"viewBox=\"0 0 24 24\"\n",
              "       width=\"24px\">\n",
              "    <path d=\"M0 0h24v24H0V0z\" fill=\"none\"/>\n",
              "    <path d=\"M18.56 5.44l.94 2.06.94-2.06 2.06-.94-2.06-.94-.94-2.06-.94 2.06-2.06.94zm-11 1L8.5 8.5l.94-2.06 2.06-.94-2.06-.94L8.5 2.5l-.94 2.06-2.06.94zm10 10l.94 2.06.94-2.06 2.06-.94-2.06-.94-.94-2.06-.94 2.06-2.06.94z\"/><path d=\"M17.41 7.96l-1.37-1.37c-.4-.4-.92-.59-1.43-.59-.52 0-1.04.2-1.43.59L10.3 9.45l-7.72 7.72c-.78.78-.78 2.05 0 2.83L4 21.41c.39.39.9.59 1.41.59.51 0 1.02-.2 1.41-.59l7.78-7.78 2.81-2.81c.8-.78.8-2.07 0-2.86zM5.41 20L4 18.59l7.72-7.72 1.47 1.35L5.41 20z\"/>\n",
              "  </svg>\n",
              "      </button>\n",
              "      \n",
              "  <style>\n",
              "    .colab-df-container {\n",
              "      display:flex;\n",
              "      flex-wrap:wrap;\n",
              "      gap: 12px;\n",
              "    }\n",
              "\n",
              "    .colab-df-convert {\n",
              "      background-color: #E8F0FE;\n",
              "      border: none;\n",
              "      border-radius: 50%;\n",
              "      cursor: pointer;\n",
              "      display: none;\n",
              "      fill: #1967D2;\n",
              "      height: 32px;\n",
              "      padding: 0 0 0 0;\n",
              "      width: 32px;\n",
              "    }\n",
              "\n",
              "    .colab-df-convert:hover {\n",
              "      background-color: #E2EBFA;\n",
              "      box-shadow: 0px 1px 2px rgba(60, 64, 67, 0.3), 0px 1px 3px 1px rgba(60, 64, 67, 0.15);\n",
              "      fill: #174EA6;\n",
              "    }\n",
              "\n",
              "    [theme=dark] .colab-df-convert {\n",
              "      background-color: #3B4455;\n",
              "      fill: #D2E3FC;\n",
              "    }\n",
              "\n",
              "    [theme=dark] .colab-df-convert:hover {\n",
              "      background-color: #434B5C;\n",
              "      box-shadow: 0px 1px 3px 1px rgba(0, 0, 0, 0.15);\n",
              "      filter: drop-shadow(0px 1px 2px rgba(0, 0, 0, 0.3));\n",
              "      fill: #FFFFFF;\n",
              "    }\n",
              "  </style>\n",
              "\n",
              "      <script>\n",
              "        const buttonEl =\n",
              "          document.querySelector('#df-97ff63b1-71cf-4ede-bc24-f612390412b1 button.colab-df-convert');\n",
              "        buttonEl.style.display =\n",
              "          google.colab.kernel.accessAllowed ? 'block' : 'none';\n",
              "\n",
              "        async function convertToInteractive(key) {\n",
              "          const element = document.querySelector('#df-97ff63b1-71cf-4ede-bc24-f612390412b1');\n",
              "          const dataTable =\n",
              "            await google.colab.kernel.invokeFunction('convertToInteractive',\n",
              "                                                     [key], {});\n",
              "          if (!dataTable) return;\n",
              "\n",
              "          const docLinkHtml = 'Like what you see? Visit the ' +\n",
              "            '<a target=\"_blank\" href=https://colab.research.google.com/notebooks/data_table.ipynb>data table notebook</a>'\n",
              "            + ' to learn more about interactive tables.';\n",
              "          element.innerHTML = '';\n",
              "          dataTable['output_type'] = 'display_data';\n",
              "          await google.colab.output.renderOutput(dataTable, element);\n",
              "          const docLink = document.createElement('div');\n",
              "          docLink.innerHTML = docLinkHtml;\n",
              "          element.appendChild(docLink);\n",
              "        }\n",
              "      </script>\n",
              "    </div>\n",
              "  </div>\n",
              "  "
            ]
          },
          "metadata": {},
          "execution_count": 2
        }
      ]
    },
    {
      "cell_type": "markdown",
      "source": [
        "### Data cleaning and manipulation\n",
        "Check for missimg values and appropriatedata type of the variables"
      ],
      "metadata": {
        "id": "eKqlrhgvdlcx"
      }
    },
    {
      "cell_type": "code",
      "source": [
        "# Inquiry about the state of the original dataset\n",
        "df_dist.info()\n"
      ],
      "metadata": {
        "colab": {
          "base_uri": "https://localhost:8080/"
        },
        "id": "l-3mcrVyYOAa",
        "outputId": "36c27de9-def3-4785-8119-2f62c365f5ff"
      },
      "execution_count": 3,
      "outputs": [
        {
          "output_type": "stream",
          "name": "stdout",
          "text": [
            "<class 'pandas.core.frame.DataFrame'>\n",
            "RangeIndex: 344 entries, 0 to 343\n",
            "Data columns (total 7 columns):\n",
            " #   Column             Non-Null Count  Dtype  \n",
            "---  ------             --------------  -----  \n",
            " 0   species            344 non-null    object \n",
            " 1   island             344 non-null    object \n",
            " 2   culmen_length_mm   342 non-null    float64\n",
            " 3   culmen_depth_mm    342 non-null    float64\n",
            " 4   flipper_length_mm  342 non-null    float64\n",
            " 5   body_mass_g        342 non-null    float64\n",
            " 6   sex                334 non-null    object \n",
            "dtypes: float64(4), object(3)\n",
            "memory usage: 18.9+ KB\n"
          ]
        }
      ]
    },
    {
      "cell_type": "code",
      "source": [
        "# Check if any missing values\n",
        "df_dist.isnull().any()\n"
      ],
      "metadata": {
        "colab": {
          "base_uri": "https://localhost:8080/"
        },
        "id": "zWtj6z-DZauW",
        "outputId": "716d1db1-1719-40c3-f9d3-0406852bd9a9"
      },
      "execution_count": 4,
      "outputs": [
        {
          "output_type": "execute_result",
          "data": {
            "text/plain": [
              "species              False\n",
              "island               False\n",
              "culmen_length_mm      True\n",
              "culmen_depth_mm       True\n",
              "flipper_length_mm     True\n",
              "body_mass_g           True\n",
              "sex                   True\n",
              "dtype: bool"
            ]
          },
          "metadata": {},
          "execution_count": 4
        }
      ]
    },
    {
      "cell_type": "code",
      "source": [
        "# Eliminate the rows with mising values, and define a new dataframe df\n",
        "df = df_dist.dropna(axis = 0, how ='any')\n"
      ],
      "metadata": {
        "id": "fg7pR-y6aks8"
      },
      "execution_count": 5,
      "outputs": []
    },
    {
      "cell_type": "code",
      "source": [
        "# Should have a clean dataframe with no missing values\n",
        "df.info()\n"
      ],
      "metadata": {
        "colab": {
          "base_uri": "https://localhost:8080/"
        },
        "id": "jU9jLV8BawFU",
        "outputId": "d0ebf244-0491-4349-c575-b2519fe37d3e"
      },
      "execution_count": 6,
      "outputs": [
        {
          "output_type": "stream",
          "name": "stdout",
          "text": [
            "<class 'pandas.core.frame.DataFrame'>\n",
            "Int64Index: 334 entries, 0 to 343\n",
            "Data columns (total 7 columns):\n",
            " #   Column             Non-Null Count  Dtype  \n",
            "---  ------             --------------  -----  \n",
            " 0   species            334 non-null    object \n",
            " 1   island             334 non-null    object \n",
            " 2   culmen_length_mm   334 non-null    float64\n",
            " 3   culmen_depth_mm    334 non-null    float64\n",
            " 4   flipper_length_mm  334 non-null    float64\n",
            " 5   body_mass_g        334 non-null    float64\n",
            " 6   sex                334 non-null    object \n",
            "dtypes: float64(4), object(3)\n",
            "memory usage: 20.9+ KB\n"
          ]
        }
      ]
    },
    {
      "cell_type": "markdown",
      "source": [
        "### Label encoding of categorical variables using the built-in function LabelEncoder()\n",
        "\n",
        "The categorial variables are:\n",
        "- species\n",
        "- island\n",
        "- sex"
      ],
      "metadata": {
        "id": "e783bvXmd4cY"
      }
    },
    {
      "cell_type": "code",
      "source": [
        "# See the different values of the above variables\n",
        "print('Species: \\n', df.species.value_counts())\n",
        "print('Island: \\n', df.island.value_counts())\n",
        "print('Gender: \\n', df.sex.value_counts())\n"
      ],
      "metadata": {
        "colab": {
          "base_uri": "https://localhost:8080/"
        },
        "id": "Fy4M4he2ay_H",
        "outputId": "4400bfd4-56fa-4b4c-fb15-fe7276f016ab"
      },
      "execution_count": 17,
      "outputs": [
        {
          "output_type": "stream",
          "name": "stdout",
          "text": [
            "Species: \n",
            " Adelie       146\n",
            "Gentoo       119\n",
            "Chinstrap     68\n",
            "Name: species, dtype: int64\n",
            "Island: \n",
            " Biscoe       163\n",
            "Dream        123\n",
            "Torgersen     47\n",
            "Name: island, dtype: int64\n",
            "Gender: \n",
            " MALE      168\n",
            "FEMALE    165\n",
            "Name: sex, dtype: int64\n"
          ]
        }
      ]
    },
    {
      "cell_type": "markdown",
      "source": [
        "There is a row hwre the gender of the penguin has value of \".\", then we need to eliminte that row, using a filter condition. "
      ],
      "metadata": {
        "id": "wOieGyDegFuD"
      }
    },
    {
      "cell_type": "code",
      "source": [
        "# Keep or filter out all rows where the sex of the Penguins are not equal to '.'\n",
        "df = df[df.sex != '.'] \n",
        "print('Gender: \\n', df.sex.value_counts())\n"
      ],
      "metadata": {
        "colab": {
          "base_uri": "https://localhost:8080/"
        },
        "id": "n1tzTglgfqmy",
        "outputId": "ffe77c97-e182-485f-a927-a97cbb1744ed"
      },
      "execution_count": 18,
      "outputs": [
        {
          "output_type": "stream",
          "name": "stdout",
          "text": [
            "Gender: \n",
            " MALE      168\n",
            "FEMALE    165\n",
            "Name: sex, dtype: int64\n"
          ]
        }
      ]
    },
    {
      "cell_type": "code",
      "source": [
        "df.info()\n"
      ],
      "metadata": {
        "colab": {
          "base_uri": "https://localhost:8080/"
        },
        "id": "HfHJhpb5hqO-",
        "outputId": "29491efd-246c-4ef5-b7da-689eb1788c38"
      },
      "execution_count": 19,
      "outputs": [
        {
          "output_type": "stream",
          "name": "stdout",
          "text": [
            "<class 'pandas.core.frame.DataFrame'>\n",
            "Int64Index: 333 entries, 0 to 343\n",
            "Data columns (total 10 columns):\n",
            " #   Column             Non-Null Count  Dtype  \n",
            "---  ------             --------------  -----  \n",
            " 0   species            333 non-null    object \n",
            " 1   island             333 non-null    object \n",
            " 2   culmen_length_mm   333 non-null    float64\n",
            " 3   culmen_depth_mm    333 non-null    float64\n",
            " 4   flipper_length_mm  333 non-null    float64\n",
            " 5   body_mass_g        333 non-null    float64\n",
            " 6   sex                333 non-null    object \n",
            " 7   species_encoded    333 non-null    int64  \n",
            " 8   island_encoded     333 non-null    int64  \n",
            " 9   sex_encoded        333 non-null    int64  \n",
            "dtypes: float64(4), int64(3), object(3)\n",
            "memory usage: 28.6+ KB\n"
          ]
        }
      ]
    },
    {
      "cell_type": "code",
      "source": [
        "# Ready to encode categorical variables (encode names with values)\n",
        "le = LabelEncoder()\n",
        "\n",
        "df['species_encoded']= le.fit_transform(df['species'])\n",
        "df['island_encoded']= le.fit_transform(df['island'])\n",
        "df['sex_encoded']= le.fit_transform(df['sex'])\n",
        "print(df.head())\n"
      ],
      "metadata": {
        "colab": {
          "base_uri": "https://localhost:8080/"
        },
        "id": "IkVGsnVshtAU",
        "outputId": "96b1cdca-16e7-4828-9cd8-acaabeb1c2e9"
      },
      "execution_count": 20,
      "outputs": [
        {
          "output_type": "stream",
          "name": "stdout",
          "text": [
            "  species     island  culmen_length_mm  culmen_depth_mm  flipper_length_mm  \\\n",
            "0  Adelie  Torgersen              39.1             18.7              181.0   \n",
            "1  Adelie  Torgersen              39.5             17.4              186.0   \n",
            "2  Adelie  Torgersen              40.3             18.0              195.0   \n",
            "4  Adelie  Torgersen              36.7             19.3              193.0   \n",
            "5  Adelie  Torgersen              39.3             20.6              190.0   \n",
            "\n",
            "   body_mass_g     sex  species_encoded  island_encoded  sex_encoded  \n",
            "0       3750.0    MALE                0               2            1  \n",
            "1       3800.0  FEMALE                0               2            0  \n",
            "2       3250.0  FEMALE                0               2            0  \n",
            "4       3450.0  FEMALE                0               2            0  \n",
            "5       3650.0    MALE                0               2            1  \n"
          ]
        }
      ]
    },
    {
      "cell_type": "markdown",
      "source": [
        "## Check for outliers in dataset\n",
        "\n",
        "Tukey also gives a criteria for defining outlier data. If Q1, and Q3 are the first and third quartile positions, the interquartile range IQR = Q3 - Q1 , then an outlier value will fall below Q1 - 1.5 IQR or above Q3 + 1.5 IQR.\n",
        "\n",
        "We can define an additional Tukey outer fences, lower outer fence Q1 - 3.0 IQR and the upper outer fence above Q3 + 3.0 IQR.\n",
        "\n"
      ],
      "metadata": {
        "id": "xw728FTclBg7"
      }
    },
    {
      "cell_type": "code",
      "source": [
        "#Tukey's method\n",
        "def tukeys_method(df, variable):\n",
        "    #Takes two parameters: dataframe & variable of interest as string\n",
        "    q1 = df[variable].quantile(0.25)\n",
        "    q3 = df[variable].quantile(0.75)\n",
        "    iqr = q3-q1\n",
        "    inner_fence = 1.5*iqr\n",
        "    outer_fence = 3*iqr\n",
        "    \n",
        "    #inner fence lower and upper end\n",
        "    inner_fence_le = q1-inner_fence\n",
        "    inner_fence_ue = q3+inner_fence\n",
        "    ifl, ifu = inner_fence_le, inner_fence_ue\n",
        "    \n",
        "    #outer fence lower and upper end\n",
        "    outer_fence_le = q1-outer_fence\n",
        "    outer_fence_ue = q3+outer_fence\n",
        "    ofl, ofu = outer_fence_le, outer_fence_ue\n",
        "    \n",
        "    \n",
        "    outliers_prob = []\n",
        "    outliers_poss = []\n",
        "    for index, x in enumerate(df[variable]):\n",
        "        if x <= outer_fence_le or x >= outer_fence_ue:\n",
        "            outliers_prob.append(index)\n",
        "    for index, x in enumerate(df[variable]):\n",
        "        if x <= inner_fence_le or x >= inner_fence_ue:\n",
        "            outliers_poss.append(index)\n",
        "    return outliers_prob, outliers_poss, ifl, ifu, ofl, ofu\n",
        " \n",
        "     "
      ],
      "metadata": {
        "id": "N0zX7lY9ltIj"
      },
      "execution_count": 11,
      "outputs": []
    },
    {
      "cell_type": "code",
      "source": [
        "# Check for putliers in each numeric variable: culmen length\n",
        "\n",
        "probable_outliers_tm, possible_outliers_tm, ifl, ifu, ofl, ofu = tukeys_method(df, 'culmen_length_mm')\n",
        "print(len(probable_outliers_tm))\n",
        "print(len(possible_outliers_tm))"
      ],
      "metadata": {
        "colab": {
          "base_uri": "https://localhost:8080/"
        },
        "id": "Y3dS2IIGl6-u",
        "outputId": "29d57ba8-ad18-4478-83ac-dc2eaa5480ec"
      },
      "execution_count": 12,
      "outputs": [
        {
          "output_type": "stream",
          "name": "stdout",
          "text": [
            "0\n",
            "0\n"
          ]
        }
      ]
    },
    {
      "cell_type": "code",
      "source": [
        "# Check for putliers in each numeric variable: culmen depth\n",
        "\n",
        "probable_outliers_tm, possible_outliers_tm, ifl, ifu, ofl, ofu = tukeys_method(df, 'culmen_depth_mm')\n",
        "print(len(probable_outliers_tm))\n",
        "print(len(possible_outliers_tm))"
      ],
      "metadata": {
        "colab": {
          "base_uri": "https://localhost:8080/"
        },
        "id": "JrLCPgWymRBv",
        "outputId": "d1020702-7fc7-4d96-9389-2bc6c96a6e74"
      },
      "execution_count": 13,
      "outputs": [
        {
          "output_type": "stream",
          "name": "stdout",
          "text": [
            "0\n",
            "0\n"
          ]
        }
      ]
    },
    {
      "cell_type": "code",
      "source": [
        "# Check for putliers in each numeric variable: flipper length\n",
        "\n",
        "probable_outliers_tm, possible_outliers_tm, ifl, ifu, ofl, ofu = tukeys_method(df, 'flipper_length_mm')\n",
        "print(len(probable_outliers_tm))\n",
        "print(len(possible_outliers_tm))"
      ],
      "metadata": {
        "colab": {
          "base_uri": "https://localhost:8080/"
        },
        "id": "2ulXx7hXmdkU",
        "outputId": "156b637f-0b35-45fc-bef6-a82cbebce28a"
      },
      "execution_count": 14,
      "outputs": [
        {
          "output_type": "stream",
          "name": "stdout",
          "text": [
            "0\n",
            "0\n"
          ]
        }
      ]
    },
    {
      "cell_type": "code",
      "source": [
        "# Check for putliers in each numeric variable: body mass\n",
        "\n",
        "probable_outliers_tm, possible_outliers_tm, ifl, ifu, ofl, ofu = tukeys_method(df, 'body_mass_g')\n",
        "print(len(probable_outliers_tm))\n",
        "print(len(possible_outliers_tm))"
      ],
      "metadata": {
        "colab": {
          "base_uri": "https://localhost:8080/"
        },
        "id": "hP8_1XI9m5kw",
        "outputId": "64bfdd5f-6695-400a-f99b-340d4fa62603"
      },
      "execution_count": 15,
      "outputs": [
        {
          "output_type": "stream",
          "name": "stdout",
          "text": [
            "0\n",
            "0\n"
          ]
        }
      ]
    },
    {
      "cell_type": "markdown",
      "source": [
        "There are no outliers"
      ],
      "metadata": {
        "id": "GYGHhHj7nE9Y"
      }
    },
    {
      "cell_type": "code",
      "source": [
        "# Plot data frequency distribution for first two variables\n",
        "\n",
        "fig, (ax1, ax2) = plt.subplots(nrows=1, ncols=2,figsize=(12, 8))\n",
        "\n",
        "sns.histplot(df['culmen_length_mm'], bins=25, kde=True, ax=ax1);\n",
        "sns.histplot(df['culmen_depth_mm'], bins=25, kde=True, ax=ax2);\n",
        "plt.show()\n"
      ],
      "metadata": {
        "colab": {
          "base_uri": "https://localhost:8080/",
          "height": 498
        },
        "id": "DxAjSheukE1y",
        "outputId": "c1fd0893-d3ee-49f1-fb2e-2de828cb3459"
      },
      "execution_count": 21,
      "outputs": [
        {
          "output_type": "display_data",
          "data": {
            "text/plain": [
              "<Figure size 864x576 with 2 Axes>"
            ],
            "image/png": "[encoded data removed]"
          },
          "metadata": {
            "needs_background": "light"
          }
        }
      ]
    },
    {
      "cell_type": "code",
      "source": [
        "fig, (ax1, ax2) = plt.subplots(nrows=1, ncols=2, figsize=(12, 8))\n",
        "\n",
        "sns.barplot(x='species', y='culmen_length_mm', data=df, ax=ax1)\n",
        "sns.barplot(x='species', y='culmen_depth_mm', data=df, ax=ax2)\n",
        "\n",
        "plt.show()\n"
      ],
      "metadata": {
        "colab": {
          "base_uri": "https://localhost:8080/",
          "height": 497
        },
        "id": "1-T80Fv6qLbM",
        "outputId": "101f717e-8ec9-4d0e-e7cf-50e446bf1901"
      },
      "execution_count": 22,
      "outputs": [
        {
          "output_type": "display_data",
          "data": {
            "text/plain": [
              "<Figure size 864x576 with 2 Axes>"
            ],
            "image/png": "[encoded data removed]"
          },
          "metadata": {
            "needs_background": "light"
          }
        }
      ]
    },
    {
      "cell_type": "code",
      "source": [
        "# Plot data frequency distribution for last two variables\n",
        "\n",
        "fig, (ax1, ax2) = plt.subplots(nrows=1, ncols=2,figsize=(12, 8))\n",
        "\n",
        "sns.histplot(df['flipper_length_mm'], bins=25, kde=True, ax=ax1);\n",
        "sns.histplot(df['body_mass_g'], bins=25, kde=True, ax=ax2);\n",
        "plt.show()\n"
      ],
      "metadata": {
        "colab": {
          "base_uri": "https://localhost:8080/",
          "height": 498
        },
        "id": "hgZ9-N0mmnZ9",
        "outputId": "e2871b43-5910-4135-e597-c90003febc48"
      },
      "execution_count": 23,
      "outputs": [
        {
          "output_type": "display_data",
          "data": {
            "text/plain": [
              "<Figure size 864x576 with 2 Axes>"
            ],
            "image/png": "[encoded data removed]"
          },
          "metadata": {
            "needs_background": "light"
          }
        }
      ]
    },
    {
      "cell_type": "code",
      "source": [
        "fig, (ax1, ax2) = plt.subplots(nrows=1, ncols=2, figsize=(12, 8))\n",
        "\n",
        "sns.barplot(x='species', y='flipper_length_mm', data=df, ax=ax1)\n",
        "sns.barplot(x='species', y='body_mass_g', data=df, ax=ax2)\n",
        "\n",
        "plt.show()\n"
      ],
      "metadata": {
        "colab": {
          "base_uri": "https://localhost:8080/",
          "height": 497
        },
        "id": "k9SyDOUYpARj",
        "outputId": "086de663-1768-4005-91ac-9a93c00f7c00"
      },
      "execution_count": 24,
      "outputs": [
        {
          "output_type": "display_data",
          "data": {
            "text/plain": [
              "<Figure size 864x576 with 2 Axes>"
            ],
            "image/png": "[encoded data removed]"
          },
          "metadata": {
            "needs_background": "light"
          }
        }
      ]
    },
    {
      "cell_type": "markdown",
      "source": [
        "## Splitting the data into Training & Testing datasets"
      ],
      "metadata": {
        "id": "7fiVeBgqtZlT"
      }
    },
    {
      "cell_type": "code",
      "source": [
        "features=['culmen_length_mm', 'culmen_depth_mm','flipper_length_mm', 'body_mass_g','island_encoded', 'species_encoded']\n",
        "\n",
        "x=df[features]# since these are the features we take them as x\n",
        "y=df['sex_encoded']# since species is the output or label we'll take it as y\n",
        "\n",
        "x_train, x_test, y_train, y_test = train_test_split(x, y, test_size = 0.2,random_state=42)\n",
        "\n",
        "print(\"\\nShape of x_train:\\n{}\".format(x_train.shape))\n",
        "print(\"\\nShape of x_test:\\n{}\".format(x_test.shape))\n",
        "print(\"\\nShape of y_train:\\n{}\".format(y_train.shape))\n",
        "print(\"\\nShape of y_test:\\n{}\".format(y_test.shape))\n"
      ],
      "metadata": {
        "colab": {
          "base_uri": "https://localhost:8080/"
        },
        "id": "OceLb_qMsfE2",
        "outputId": "c4b9ac0b-8dcf-476e-9a55-18cb6ee46462"
      },
      "execution_count": 74,
      "outputs": [
        {
          "output_type": "stream",
          "name": "stdout",
          "text": [
            "\n",
            "Shape of x_train:\n",
            "(266, 6)\n",
            "\n",
            "Shape of x_test:\n",
            "(67, 6)\n",
            "\n",
            "Shape of y_train:\n",
            "(266,)\n",
            "\n",
            "Shape of y_test:\n",
            "(67,)\n"
          ]
        }
      ]
    },
    {
      "cell_type": "markdown",
      "source": [
        "## Scaling"
      ],
      "metadata": {
        "id": "RF__XqfvuDVn"
      }
    },
    {
      "cell_type": "code",
      "source": [
        "\n",
        "sc = StandardScaler()\n",
        "\n",
        "scaled_x_train = sc.fit_transform(x_train)\n",
        "scaled_x_test = sc.transform(x_test)\n",
        "\n",
        "print(x_train)\n",
        "print(\"____________________________________________________________________________\")\n",
        "print(\"\",scaled_x_train)\n"
      ],
      "metadata": {
        "colab": {
          "base_uri": "https://localhost:8080/"
        },
        "id": "X7KeIfCbt4K-",
        "outputId": "c2511293-cee7-401f-a0f8-b530cebd2369"
      },
      "execution_count": 75,
      "outputs": [
        {
          "output_type": "stream",
          "name": "stdout",
          "text": [
            "     culmen_length_mm  culmen_depth_mm  flipper_length_mm  body_mass_g  \\\n",
            "230              40.9             13.7              214.0       4650.0   \n",
            "84               37.3             17.8              191.0       3350.0   \n",
            "303              50.0             15.9              224.0       5350.0   \n",
            "22               35.9             19.2              189.0       3800.0   \n",
            "29               40.5             18.9              180.0       3950.0   \n",
            "..                ...              ...                ...          ...   \n",
            "194              50.9             19.1              196.0       3550.0   \n",
            "77               37.2             19.4              184.0       3900.0   \n",
            "112              39.7             17.7              193.0       3200.0   \n",
            "277              45.5             15.0              220.0       5000.0   \n",
            "108              38.1             17.0              181.0       3175.0   \n",
            "\n",
            "     island_encoded  species_encoded  \n",
            "230               0                2  \n",
            "84                1                0  \n",
            "303               0                2  \n",
            "22                0                0  \n",
            "29                0                0  \n",
            "..              ...              ...  \n",
            "194               1                1  \n",
            "77                2                0  \n",
            "112               0                0  \n",
            "277               0                2  \n",
            "108               0                0  \n",
            "\n",
            "[266 rows x 6 columns]\n",
            "____________________________________________________________________________\n",
            " [[-0.59372706 -1.75093934  0.9359428   0.53973681 -0.91721936  1.20687977]\n",
            " [-1.26104283  0.32310698 -0.719956   -1.07236416  0.52645135 -1.04596247]\n",
            " [ 1.09309891 -0.63803644  1.65589881  1.40779118 -0.91721936  1.20687977]\n",
            " ...\n",
            " [-0.81616565  0.27252048 -0.5759648  -1.25837581 -0.91721936 -1.04596247]\n",
            " [ 0.2589542  -1.0933149   1.36791641  0.97376399 -0.91721936  1.20687977]\n",
            " [-1.11275044 -0.08158499 -1.43991201 -1.28937775 -0.91721936 -1.04596247]]\n"
          ]
        }
      ]
    },
    {
      "cell_type": "markdown",
      "source": [
        "## Train the model"
      ],
      "metadata": {
        "id": "QKFc8lSyu2Ws"
      }
    },
    {
      "cell_type": "code",
      "source": [
        "#KNN model\n",
        "x_train=scaled_x_train\n",
        "x_test=scaled_x_test\n",
        "\n",
        "model1=KNeighborsClassifier(n_neighbors=3)\n",
        "model1.fit(x_train, y_train)\n",
        "y_prediction1= model1.predict(x_test)\n",
        "\n",
        "report=pd.DataFrame()\n",
        "report['Actual values']=y_test\n",
        "report['Predicted values KNN']= y_prediction1\n",
        "print(report)\n",
        "\n",
        "#Decision tree\n",
        "model2= DecisionTreeClassifier()\n",
        "model2 = model2.fit(x_train,y_train)\n",
        "#Predict the response for test dataset\n",
        "y_prediction2 = model2.predict(x_test)\n",
        "report['Predicted values Decision tree']= y_prediction2\n",
        "print(report)\n",
        "\n",
        "#SVM\n",
        "model3= svm.SVC(kernel='linear',probability=True) # Linear Kernel\n",
        "model3.fit(x_train, y_train)\n",
        "#Predict the response for test dataset\n",
        "y_prediction3 = model3.predict(x_test)\n",
        "report['Predicted values SVM']= y_prediction3\n",
        "print(report)\n"
      ],
      "metadata": {
        "colab": {
          "base_uri": "https://localhost:8080/"
        },
        "id": "4DSrLEZsuUql",
        "outputId": "5b9b8a9c-6067-47a1-92a9-fb4a1bb331a9"
      },
      "execution_count": 76,
      "outputs": [
        {
          "output_type": "stream",
          "name": "stdout",
          "text": [
            "     Actual values  Predicted values KNN\n",
            "30               0                     0\n",
            "317              0                     0\n",
            "79               1                     1\n",
            "201              0                     1\n",
            "63               1                     1\n",
            "..             ...                   ...\n",
            "288              0                     0\n",
            "4                0                     0\n",
            "83               1                     1\n",
            "319              1                     1\n",
            "66               0                     0\n",
            "\n",
            "[67 rows x 2 columns]\n",
            "     Actual values  Predicted values KNN  Predicted values Decision tree\n",
            "30               0                     0                               0\n",
            "317              0                     0                               0\n",
            "79               1                     1                               1\n",
            "201              0                     1                               1\n",
            "63               1                     1                               1\n",
            "..             ...                   ...                             ...\n",
            "288              0                     0                               0\n",
            "4                0                     0                               0\n",
            "83               1                     1                               0\n",
            "319              1                     1                               1\n",
            "66               0                     0                               0\n",
            "\n",
            "[67 rows x 3 columns]\n",
            "     Actual values  Predicted values KNN  Predicted values Decision tree  \\\n",
            "30               0                     0                               0   \n",
            "317              0                     0                               0   \n",
            "79               1                     1                               1   \n",
            "201              0                     1                               1   \n",
            "63               1                     1                               1   \n",
            "..             ...                   ...                             ...   \n",
            "288              0                     0                               0   \n",
            "4                0                     0                               0   \n",
            "83               1                     1                               0   \n",
            "319              1                     1                               1   \n",
            "66               0                     0                               0   \n",
            "\n",
            "     Predicted values SVM  \n",
            "30                      0  \n",
            "317                     0  \n",
            "79                      1  \n",
            "201                     0  \n",
            "63                      1  \n",
            "..                    ...  \n",
            "288                     0  \n",
            "4                       0  \n",
            "83                      1  \n",
            "319                     1  \n",
            "66                      0  \n",
            "\n",
            "[67 rows x 4 columns]\n"
          ]
        }
      ]
    },
    {
      "cell_type": "markdown",
      "source": [
        "### Model evaluation"
      ],
      "metadata": {
        "id": "tbX7gXVVvvwn"
      }
    },
    {
      "cell_type": "code",
      "source": [
        "ConfusionMatrix1=confusion_matrix(y_test,y_prediction1)\n",
        "print(ConfusionMatrix1)\n",
        "\n",
        "ConfusionMatrix2=confusion_matrix(y_test,y_prediction2)\n",
        "print(ConfusionMatrix2)\n",
        "\n",
        "ConfusionMatrix3=confusion_matrix(y_test,y_prediction3)\n",
        "print(ConfusionMatrix3)\n"
      ],
      "metadata": {
        "colab": {
          "base_uri": "https://localhost:8080/"
        },
        "id": "b-0-Lh2hvfdS",
        "outputId": "46569361-2ac6-4010-a44a-cca1ebf92a90"
      },
      "execution_count": 77,
      "outputs": [
        {
          "output_type": "stream",
          "name": "stdout",
          "text": [
            "[[32  5]\n",
            " [ 2 28]]\n",
            "[[31  6]\n",
            " [ 5 25]]\n",
            "[[33  4]\n",
            " [ 3 27]]\n"
          ]
        }
      ]
    },
    {
      "cell_type": "code",
      "source": [
        "# Heatmap of First Confusion Matrix: KNN\n",
        "\n",
        "ax=sns.heatmap(ConfusionMatrix1,annot=True,cmap=\"YlGnBu\")\n",
        "ax.set_title('Confusion matrix')\n",
        "ax.set_xlabel('Predicted values')\n",
        "ax.set_ylabel('Actual values')\n",
        "#Ticket labels:\n",
        "ax.xaxis.set_ticklabels(['No','Yes'])\n",
        "ax.xaxis.set_ticklabels(['No','Yes'])\n",
        "plt.show()\n"
      ],
      "metadata": {
        "colab": {
          "base_uri": "https://localhost:8080/",
          "height": 296
        },
        "id": "l6h7_kT2v60O",
        "outputId": "64625646-931a-46b5-bf38-2fe9d530f6f4"
      },
      "execution_count": 78,
      "outputs": [
        {
          "output_type": "display_data",
          "data": {
            "text/plain": [
              "<Figure size 432x288 with 2 Axes>"
            ],
            "image/png": "[encoded data removed]"
          },
          "metadata": {
            "needs_background": "light"
          }
        }
      ]
    },
    {
      "cell_type": "code",
      "source": [
        "# Second Confusion Matrix: Decision Tree\n",
        "\n",
        "ax=sns.heatmap(ConfusionMatrix2,annot=True,cmap=\"YlGnBu\")\n",
        "ax.set_title('Confusion matrix')\n",
        "ax.set_xlabel('Predicted values')\n",
        "ax.set_ylabel('Actual values')\n",
        "#Ticket labels:\n",
        "ax.xaxis.set_ticklabels(['No','Yes'])\n",
        "ax.xaxis.set_ticklabels(['No','Yes'])\n",
        "plt.show()\n"
      ],
      "metadata": {
        "colab": {
          "base_uri": "https://localhost:8080/",
          "height": 296
        },
        "id": "2CWyTqvSwG5M",
        "outputId": "d08e28e9-f659-43fb-c47e-db7f12a2e35b"
      },
      "execution_count": 79,
      "outputs": [
        {
          "output_type": "display_data",
          "data": {
            "text/plain": [
              "<Figure size 432x288 with 2 Axes>"
            ],
            "image/png": "[encoded data removed]"
          },
          "metadata": {
            "needs_background": "light"
          }
        }
      ]
    },
    {
      "cell_type": "code",
      "source": [
        "# Third Confusion Matrix: SVM\n",
        "\n",
        "ax=sns.heatmap(ConfusionMatrix3,annot=True,cmap=\"YlGnBu\")\n",
        "ax.set_title('Confusion matrix')\n",
        "ax.set_xlabel('Predicted values')\n",
        "ax.set_ylabel('Actual values')\n",
        "#Ticket labels:\n",
        "ax.xaxis.set_ticklabels(['No','Yes'])\n",
        "ax.xaxis.set_ticklabels(['No','Yes'])\n",
        "plt.show()\n"
      ],
      "metadata": {
        "colab": {
          "base_uri": "https://localhost:8080/",
          "height": 296
        },
        "id": "Lcr1nAdCwT49",
        "outputId": "a0931d45-f388-4e29-ac02-901a3b724fdc"
      },
      "execution_count": 80,
      "outputs": [
        {
          "output_type": "display_data",
          "data": {
            "text/plain": [
              "<Figure size 432x288 with 2 Axes>"
            ],
            "image/png": "[encoded data removed]"
          },
          "metadata": {
            "needs_background": "light"
          }
        }
      ]
    },
    {
      "cell_type": "markdown",
      "source": [
        "## ROC Scores and Curve "
      ],
      "metadata": {
        "id": "7U93PA3bwojU"
      }
    },
    {
      "cell_type": "code",
      "source": [
        "from sklearn.metrics import classification_report\n",
        "print(\"KNN\")\n",
        "print(classification_report(y_test, y_prediction1))\n",
        "print(\"Decision tree\")\n",
        "print(classification_report(y_test, y_prediction2))\n",
        "print(\"SVM\")\n",
        "print(classification_report(y_test, y_prediction3))\n"
      ],
      "metadata": {
        "colab": {
          "base_uri": "https://localhost:8080/"
        },
        "id": "aJjRQnKk9lBf",
        "outputId": "068952f9-9654-46db-b546-9a475c537dbe"
      },
      "execution_count": 81,
      "outputs": [
        {
          "output_type": "stream",
          "name": "stdout",
          "text": [
            "KNN\n",
            "              precision    recall  f1-score   support\n",
            "\n",
            "           0       0.94      0.86      0.90        37\n",
            "           1       0.85      0.93      0.89        30\n",
            "\n",
            "    accuracy                           0.90        67\n",
            "   macro avg       0.89      0.90      0.90        67\n",
            "weighted avg       0.90      0.90      0.90        67\n",
            "\n",
            "Decision tree\n",
            "              precision    recall  f1-score   support\n",
            "\n",
            "           0       0.86      0.84      0.85        37\n",
            "           1       0.81      0.83      0.82        30\n",
            "\n",
            "    accuracy                           0.84        67\n",
            "   macro avg       0.83      0.84      0.83        67\n",
            "weighted avg       0.84      0.84      0.84        67\n",
            "\n",
            "SVM\n",
            "              precision    recall  f1-score   support\n",
            "\n",
            "           0       0.92      0.89      0.90        37\n",
            "           1       0.87      0.90      0.89        30\n",
            "\n",
            "    accuracy                           0.90        67\n",
            "   macro avg       0.89      0.90      0.89        67\n",
            "weighted avg       0.90      0.90      0.90        67\n",
            "\n"
          ]
        }
      ]
    },
    {
      "cell_type": "code",
      "source": [
        "def draw_roc( actual, probs ):\n",
        "    fpr, tpr, thresholds = roc_curve( actual, probs,\n",
        "                                              drop_intermediate = False )\n",
        "    auc_score = roc_auc_score( actual, probs )\n",
        "    plt.figure(figsize=(5, 5))\n",
        "    plt.plot( fpr, tpr, label='ROC curve (area = %0.2f)' % auc_score )\n",
        "    plt.plot([0, 1], [0, 1], 'k--')\n",
        "    plt.xlim([0.0, 1.0])\n",
        "    plt.ylim([0.0, 1.05])\n",
        "    plt.xlabel('False Positive Rate or [1 - True Negative Rate]')\n",
        "    plt.ylabel('True Positive Rate')\n",
        "    plt.title('Receiver operating characteristic example')\n",
        "    plt.legend(loc=\"lower right\")\n",
        "    plt.show()\n",
        "\n",
        "    return None\n",
        "    "
      ],
      "metadata": {
        "id": "PTEUaijABC95"
      },
      "execution_count": 83,
      "outputs": []
    },
    {
      "cell_type": "code",
      "source": [
        "# ROC Curve for model 1: KNeighbors Classifier\n",
        "\n",
        "# Getting the predicted values on the train set\n",
        "y_train_pred1 = model1.predict(x_train)\n",
        "#y_train_pred1[:10]\n",
        "\n",
        "fpr1, tpr1, thresholds1 = roc_curve(y_train, y_train_pred1, drop_intermediate = False )\n",
        "draw_roc(y_train, y_train_pred1)\n"
      ],
      "metadata": {
        "colab": {
          "base_uri": "https://localhost:8080/",
          "height": 350
        },
        "id": "-eqXeIjRBPfG",
        "outputId": "d66839cc-fb42-4296-e890-23721d53a6cd"
      },
      "execution_count": 91,
      "outputs": [
        {
          "output_type": "display_data",
          "data": {
            "text/plain": [
              "<Figure size 360x360 with 1 Axes>"
            ],
            "image/png": "[encoded data removed]"
          },
          "metadata": {
            "needs_background": "light"
          }
        }
      ]
    },
    {
      "cell_type": "code",
      "source": [
        "# ROC Curve for model 2: Decision Tree Classifier\n",
        "\n",
        "# Getting the predicted values on the train set\n",
        "y_train_pred2 = model2.predict(x_train)\n",
        "#y_train_pred2[:10]\n",
        "\n",
        "fpr2, tpr2, thresholds2 = roc_curve(y_train, y_train_pred2, drop_intermediate = False )\n",
        "draw_roc(y_train, y_train_pred2)\n"
      ],
      "metadata": {
        "colab": {
          "base_uri": "https://localhost:8080/",
          "height": 350
        },
        "id": "JmNUuy1-DWq9",
        "outputId": "ecb4719f-944c-42b9-c535-e6543d4bc8fe"
      },
      "execution_count": 95,
      "outputs": [
        {
          "output_type": "display_data",
          "data": {
            "text/plain": [
              "<Figure size 360x360 with 1 Axes>"
            ],
            "image/png": "[encoded data removed]"
          },
          "metadata": {
            "needs_background": "light"
          }
        }
      ]
    },
    {
      "cell_type": "markdown",
      "source": [
        "Decision Tree Classifier is the best algorithm."
      ],
      "metadata": {
        "id": "RtM-es4sGwOT"
      }
    },
    {
      "cell_type": "code",
      "source": [
        "# ROC Curve for model 3: SVM Classifier\n",
        "\n",
        "# Getting the predicted values on the train set\n",
        "y_train_pred3 = model3.predict(x_train)\n",
        "#y_train_pred3[:10]\n",
        "\n",
        "fpr3, tpr3, thresholds3 = roc_curve(y_train, y_train_pred3, drop_intermediate = False )\n",
        "draw_roc(y_train, y_train_pred3)\n"
      ],
      "metadata": {
        "colab": {
          "base_uri": "https://localhost:8080/",
          "height": 350
        },
        "id": "pgS_TkDXDarD",
        "outputId": "29ad46a2-b2af-4d20-c024-75c896a804bb"
      },
      "execution_count": 93,
      "outputs": [
        {
          "output_type": "display_data",
          "data": {
            "text/plain": [
              "<Figure size 360x360 with 1 Axes>"
            ],
            "image/png": "[encoded data removed]"
          },
          "metadata": {
            "needs_background": "light"
          }
        }
      ]
    },
    {
      "cell_type": "code",
      "source": [],
      "metadata": {
        "id": "JMQNyryfF2H5"
      },
      "execution_count": null,
      "outputs": []
    }
  ]
}